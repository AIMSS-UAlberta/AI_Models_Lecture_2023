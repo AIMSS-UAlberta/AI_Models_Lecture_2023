{
  "nbformat": 4,
  "nbformat_minor": 0,
  "metadata": {
    "colab": {
      "provenance": [],
      "include_colab_link": true
    },
    "kernelspec": {
      "name": "python3",
      "display_name": "Python 3"
    },
    "language_info": {
      "name": "python"
    }
  },
  "cells": [
    {
      "cell_type": "markdown",
      "metadata": {
        "id": "view-in-github",
        "colab_type": "text"
      },
      "source": [
        "<a href=\"https://colab.research.google.com/github/AIMSS-UAlberta/AI_Models_Lecture_2023/blob/main/Some_AI_Models.ipynb\" target=\"_parent\"><img src=\"https://colab.research.google.com/assets/colab-badge.svg\" alt=\"Open In Colab\"/></a>"
      ]
    },
    {
      "cell_type": "markdown",
      "source": [
        "# **Dataset**"
      ],
      "metadata": {
        "id": "iEW1W2CZzmUZ"
      }
    },
    {
      "cell_type": "code",
      "source": [
        "#Necessary libraries\n",
        "\n",
        "#math\n",
        "import pandas as pd\n",
        "import numpy as np\n",
        "\n",
        "#plotting\n",
        "import matplotlib.pyplot as plt\n",
        "%matplotlib inline\n",
        "\n",
        "#DATA\n",
        "# data preprocessing\n",
        "from sklearn.preprocessing import StandardScaler\n",
        "\n",
        "# data splitting\n",
        "from sklearn.model_selection import train_test_split\n",
        "# data modeling\n",
        "from sklearn.metrics import accuracy_score,classification_report\n",
        "#NOTE: confusion_matrix and roc_curve are other metrics you can work with and get valuable information from\n",
        "#you can read more about how we can quantify the quality of our prediction here: https://scikit-learn.org/stable/modules/model_evaluation.html\n",
        "\n",
        "\n",
        "#MODELS\n",
        "from sklearn.linear_model import LogisticRegression\n",
        "from sklearn.tree import DecisionTreeClassifier\n",
        "from sklearn.tree import export_text\n",
        "from sklearn.neighbors import KNeighborsClassifier\n",
        "from sklearn.linear_model import LinearRegression"
      ],
      "metadata": {
        "id": "rytyVne3elbO"
      },
      "execution_count": null,
      "outputs": []
    },
    {
      "cell_type": "code",
      "source": [
        "#mount the drive to have access to the datasets on google drive through colab\n",
        "from google.colab import drive\n",
        "import pandas as pd\n",
        "drive.mount('/content/gdrive')"
      ],
      "metadata": {
        "colab": {
          "base_uri": "https://localhost:8080/"
        },
        "id": "OOmwrtVIcstH",
        "outputId": "afafde78-9d07-44cd-d5cb-02fd76a7185b"
      },
      "execution_count": null,
      "outputs": [
        {
          "output_type": "stream",
          "name": "stdout",
          "text": [
            "Drive already mounted at /content/gdrive; to attempt to forcibly remount, call drive.mount(\"/content/gdrive\", force_remount=True).\n"
          ]
        }
      ]
    },
    {
      "cell_type": "code",
      "source": [
        "dataset_directory = '/content/gdrive/My Drive/AIMSS/heart.csv'\n",
        "data = pd.read_csv(dataset_directorry) \n",
        "#NOTE: you should change this address to the directory on your own google drive where you store the dataset\n",
        "#link to dataset : https://www.kaggle.com/datasets/nareshbhat/health-care-data-set-on-heart-attack-possibility\n",
        "\n",
        "data.head()\n"
      ],
      "metadata": {
        "colab": {
          "base_uri": "https://localhost:8080/",
          "height": 206
        },
        "id": "lxdfOmCceH3C",
        "outputId": "ce4eeab9-2bf5-46a4-f642-01b1a5bebc15"
      },
      "execution_count": null,
      "outputs": [
        {
          "output_type": "execute_result",
          "data": {
            "text/plain": [
              "   age  sex  cp  trestbps  chol  fbs  restecg  thalach  exang  oldpeak  slope  \\\n",
              "0   63    1   3       145   233    1        0      150      0      2.3      0   \n",
              "1   37    1   2       130   250    0        1      187      0      3.5      0   \n",
              "2   41    0   1       130   204    0        0      172      0      1.4      2   \n",
              "3   56    1   1       120   236    0        1      178      0      0.8      2   \n",
              "4   57    0   0       120   354    0        1      163      1      0.6      2   \n",
              "\n",
              "   ca  thal  target  \n",
              "0   0     1       1  \n",
              "1   0     2       1  \n",
              "2   0     2       1  \n",
              "3   0     2       1  \n",
              "4   0     2       1  "
            ],
            "text/html": [
              "\n",
              "  <div id=\"df-452bb6a8-f955-4fc5-a2d3-095fd40a9fcd\">\n",
              "    <div class=\"colab-df-container\">\n",
              "      <div>\n",
              "<style scoped>\n",
              "    .dataframe tbody tr th:only-of-type {\n",
              "        vertical-align: middle;\n",
              "    }\n",
              "\n",
              "    .dataframe tbody tr th {\n",
              "        vertical-align: top;\n",
              "    }\n",
              "\n",
              "    .dataframe thead th {\n",
              "        text-align: right;\n",
              "    }\n",
              "</style>\n",
              "<table border=\"1\" class=\"dataframe\">\n",
              "  <thead>\n",
              "    <tr style=\"text-align: right;\">\n",
              "      <th></th>\n",
              "      <th>age</th>\n",
              "      <th>sex</th>\n",
              "      <th>cp</th>\n",
              "      <th>trestbps</th>\n",
              "      <th>chol</th>\n",
              "      <th>fbs</th>\n",
              "      <th>restecg</th>\n",
              "      <th>thalach</th>\n",
              "      <th>exang</th>\n",
              "      <th>oldpeak</th>\n",
              "      <th>slope</th>\n",
              "      <th>ca</th>\n",
              "      <th>thal</th>\n",
              "      <th>target</th>\n",
              "    </tr>\n",
              "  </thead>\n",
              "  <tbody>\n",
              "    <tr>\n",
              "      <th>0</th>\n",
              "      <td>63</td>\n",
              "      <td>1</td>\n",
              "      <td>3</td>\n",
              "      <td>145</td>\n",
              "      <td>233</td>\n",
              "      <td>1</td>\n",
              "      <td>0</td>\n",
              "      <td>150</td>\n",
              "      <td>0</td>\n",
              "      <td>2.3</td>\n",
              "      <td>0</td>\n",
              "      <td>0</td>\n",
              "      <td>1</td>\n",
              "      <td>1</td>\n",
              "    </tr>\n",
              "    <tr>\n",
              "      <th>1</th>\n",
              "      <td>37</td>\n",
              "      <td>1</td>\n",
              "      <td>2</td>\n",
              "      <td>130</td>\n",
              "      <td>250</td>\n",
              "      <td>0</td>\n",
              "      <td>1</td>\n",
              "      <td>187</td>\n",
              "      <td>0</td>\n",
              "      <td>3.5</td>\n",
              "      <td>0</td>\n",
              "      <td>0</td>\n",
              "      <td>2</td>\n",
              "      <td>1</td>\n",
              "    </tr>\n",
              "    <tr>\n",
              "      <th>2</th>\n",
              "      <td>41</td>\n",
              "      <td>0</td>\n",
              "      <td>1</td>\n",
              "      <td>130</td>\n",
              "      <td>204</td>\n",
              "      <td>0</td>\n",
              "      <td>0</td>\n",
              "      <td>172</td>\n",
              "      <td>0</td>\n",
              "      <td>1.4</td>\n",
              "      <td>2</td>\n",
              "      <td>0</td>\n",
              "      <td>2</td>\n",
              "      <td>1</td>\n",
              "    </tr>\n",
              "    <tr>\n",
              "      <th>3</th>\n",
              "      <td>56</td>\n",
              "      <td>1</td>\n",
              "      <td>1</td>\n",
              "      <td>120</td>\n",
              "      <td>236</td>\n",
              "      <td>0</td>\n",
              "      <td>1</td>\n",
              "      <td>178</td>\n",
              "      <td>0</td>\n",
              "      <td>0.8</td>\n",
              "      <td>2</td>\n",
              "      <td>0</td>\n",
              "      <td>2</td>\n",
              "      <td>1</td>\n",
              "    </tr>\n",
              "    <tr>\n",
              "      <th>4</th>\n",
              "      <td>57</td>\n",
              "      <td>0</td>\n",
              "      <td>0</td>\n",
              "      <td>120</td>\n",
              "      <td>354</td>\n",
              "      <td>0</td>\n",
              "      <td>1</td>\n",
              "      <td>163</td>\n",
              "      <td>1</td>\n",
              "      <td>0.6</td>\n",
              "      <td>2</td>\n",
              "      <td>0</td>\n",
              "      <td>2</td>\n",
              "      <td>1</td>\n",
              "    </tr>\n",
              "  </tbody>\n",
              "</table>\n",
              "</div>\n",
              "      <button class=\"colab-df-convert\" onclick=\"convertToInteractive('df-452bb6a8-f955-4fc5-a2d3-095fd40a9fcd')\"\n",
              "              title=\"Convert this dataframe to an interactive table.\"\n",
              "              style=\"display:none;\">\n",
              "        \n",
              "  <svg xmlns=\"http://www.w3.org/2000/svg\" height=\"24px\"viewBox=\"0 0 24 24\"\n",
              "       width=\"24px\">\n",
              "    <path d=\"M0 0h24v24H0V0z\" fill=\"none\"/>\n",
              "    <path d=\"M18.56 5.44l.94 2.06.94-2.06 2.06-.94-2.06-.94-.94-2.06-.94 2.06-2.06.94zm-11 1L8.5 8.5l.94-2.06 2.06-.94-2.06-.94L8.5 2.5l-.94 2.06-2.06.94zm10 10l.94 2.06.94-2.06 2.06-.94-2.06-.94-.94-2.06-.94 2.06-2.06.94z\"/><path d=\"M17.41 7.96l-1.37-1.37c-.4-.4-.92-.59-1.43-.59-.52 0-1.04.2-1.43.59L10.3 9.45l-7.72 7.72c-.78.78-.78 2.05 0 2.83L4 21.41c.39.39.9.59 1.41.59.51 0 1.02-.2 1.41-.59l7.78-7.78 2.81-2.81c.8-.78.8-2.07 0-2.86zM5.41 20L4 18.59l7.72-7.72 1.47 1.35L5.41 20z\"/>\n",
              "  </svg>\n",
              "      </button>\n",
              "      \n",
              "  <style>\n",
              "    .colab-df-container {\n",
              "      display:flex;\n",
              "      flex-wrap:wrap;\n",
              "      gap: 12px;\n",
              "    }\n",
              "\n",
              "    .colab-df-convert {\n",
              "      background-color: #E8F0FE;\n",
              "      border: none;\n",
              "      border-radius: 50%;\n",
              "      cursor: pointer;\n",
              "      display: none;\n",
              "      fill: #1967D2;\n",
              "      height: 32px;\n",
              "      padding: 0 0 0 0;\n",
              "      width: 32px;\n",
              "    }\n",
              "\n",
              "    .colab-df-convert:hover {\n",
              "      background-color: #E2EBFA;\n",
              "      box-shadow: 0px 1px 2px rgba(60, 64, 67, 0.3), 0px 1px 3px 1px rgba(60, 64, 67, 0.15);\n",
              "      fill: #174EA6;\n",
              "    }\n",
              "\n",
              "    [theme=dark] .colab-df-convert {\n",
              "      background-color: #3B4455;\n",
              "      fill: #D2E3FC;\n",
              "    }\n",
              "\n",
              "    [theme=dark] .colab-df-convert:hover {\n",
              "      background-color: #434B5C;\n",
              "      box-shadow: 0px 1px 3px 1px rgba(0, 0, 0, 0.15);\n",
              "      filter: drop-shadow(0px 1px 2px rgba(0, 0, 0, 0.3));\n",
              "      fill: #FFFFFF;\n",
              "    }\n",
              "  </style>\n",
              "\n",
              "      <script>\n",
              "        const buttonEl =\n",
              "          document.querySelector('#df-452bb6a8-f955-4fc5-a2d3-095fd40a9fcd button.colab-df-convert');\n",
              "        buttonEl.style.display =\n",
              "          google.colab.kernel.accessAllowed ? 'block' : 'none';\n",
              "\n",
              "        async function convertToInteractive(key) {\n",
              "          const element = document.querySelector('#df-452bb6a8-f955-4fc5-a2d3-095fd40a9fcd');\n",
              "          const dataTable =\n",
              "            await google.colab.kernel.invokeFunction('convertToInteractive',\n",
              "                                                     [key], {});\n",
              "          if (!dataTable) return;\n",
              "\n",
              "          const docLinkHtml = 'Like what you see? Visit the ' +\n",
              "            '<a target=\"_blank\" href=https://colab.research.google.com/notebooks/data_table.ipynb>data table notebook</a>'\n",
              "            + ' to learn more about interactive tables.';\n",
              "          element.innerHTML = '';\n",
              "          dataTable['output_type'] = 'display_data';\n",
              "          await google.colab.output.renderOutput(dataTable, element);\n",
              "          const docLink = document.createElement('div');\n",
              "          docLink.innerHTML = docLinkHtml;\n",
              "          element.appendChild(docLink);\n",
              "        }\n",
              "      </script>\n",
              "    </div>\n",
              "  </div>\n",
              "  "
            ]
          },
          "metadata": {},
          "execution_count": 95
        }
      ]
    },
    {
      "cell_type": "code",
      "source": [
        "#data preprocessing\n",
        "\n",
        "# 1- split data into train and test\n",
        "y = data[\"target\"]\n",
        "X = data.drop('target',axis=1)\n",
        "X_train, X_test, y_train, y_test = train_test_split(X, y, test_size=0.20, random_state = 0)\n",
        "\n",
        "# 2 - make sure data is balanced.\n",
        "#practice: why do you think balance in data is important, and how do you think we can handle imbalance?\n",
        "unique_elements, counts_elements = np.unique(y_train, return_counts = True)\n",
        "print(f\"label: {unique_elements[0]} count: {counts_elements[0]}\")\n",
        "print(f\"label: {unique_elements[1]} count: {counts_elements[1]}\")\n",
        "\n",
        "#3 - scale the data\n",
        "#NOTE: read about why scaling the data is important here:\n",
        "# https://scikit-learn.org/stable/modules/preprocessing.html#standardization-or-mean-removal-and-variance-scaling\n",
        "scaler = StandardScaler()\n",
        "X_train = scaler.fit_transform(X_train)\n",
        "X_test = scaler.transform(X_test)\n"
      ],
      "metadata": {
        "colab": {
          "base_uri": "https://localhost:8080/"
        },
        "id": "toOhEkaeeIo_",
        "outputId": "9f53f15a-8960-4cc0-d109-84e1cc4bf323"
      },
      "execution_count": null,
      "outputs": [
        {
          "output_type": "stream",
          "name": "stdout",
          "text": [
            "label: 0 count: 111\n",
            "label: 1 count: 131\n"
          ]
        }
      ]
    },
    {
      "cell_type": "markdown",
      "source": [
        "# **Decision Tree**\n"
      ],
      "metadata": {
        "id": "vLJkpKh1qkN5"
      }
    },
    {
      "cell_type": "code",
      "source": [
        "#train the model\n",
        "decision_tree = DecisionTreeClassifier(criterion = 'entropy',random_state=0,max_depth = 6)\n",
        "decision_tree = decision_tree.fit(X_train, y_train)\n",
        "\n",
        "#test the model\n",
        "decision_tree_predicted = decision_tree.predict(X_test)\n",
        "decision_tree_acc_score = accuracy_score(y_test, decision_tree_predicted)\n",
        "print(\"Accuracy for Decision Tree:\",decision_tree_acc_score*100,'\\n')\n",
        "print(classification_report(y_test,decision_tree_predicted))\n",
        "\n",
        "#visualize the model and results\n",
        "feature_names = list(data.columns.values)[:-1]\n",
        "print(export_text(decision_tree, feature_names=feature_names))\n",
        "\n",
        "#practice: change the value of max_depth,criterion, etc and see their effect on the accuracy\n"
      ],
      "metadata": {
        "colab": {
          "base_uri": "https://localhost:8080/"
        },
        "id": "SO56FadyfJn1",
        "outputId": "253489b7-c1bf-4b62-fe7c-67a26a80bb45"
      },
      "execution_count": null,
      "outputs": [
        {
          "output_type": "stream",
          "name": "stdout",
          "text": [
            "Accuracy for Decision Tree: 81.9672131147541 \n",
            "\n",
            "              precision    recall  f1-score   support\n",
            "\n",
            "           0       0.77      0.85      0.81        27\n",
            "           1       0.87      0.79      0.83        34\n",
            "\n",
            "    accuracy                           0.82        61\n",
            "   macro avg       0.82      0.82      0.82        61\n",
            "weighted avg       0.82      0.82      0.82        61\n",
            "\n",
            "|--- cp <= -0.45\n",
            "|   |--- ca <= -0.22\n",
            "|   |   |--- thal <= 0.34\n",
            "|   |   |   |--- thalach <= -1.31\n",
            "|   |   |   |   |--- class: 0\n",
            "|   |   |   |--- thalach >  -1.31\n",
            "|   |   |   |   |--- exang <= 0.35\n",
            "|   |   |   |   |   |--- chol <= 1.31\n",
            "|   |   |   |   |   |   |--- class: 1\n",
            "|   |   |   |   |   |--- chol >  1.31\n",
            "|   |   |   |   |   |   |--- class: 0\n",
            "|   |   |   |   |--- exang >  0.35\n",
            "|   |   |   |   |   |--- restecg <= -0.04\n",
            "|   |   |   |   |   |   |--- class: 1\n",
            "|   |   |   |   |   |--- restecg >  -0.04\n",
            "|   |   |   |   |   |   |--- class: 0\n",
            "|   |   |--- thal >  0.34\n",
            "|   |   |   |--- oldpeak <= -0.35\n",
            "|   |   |   |   |--- age <= -1.44\n",
            "|   |   |   |   |   |--- class: 0\n",
            "|   |   |   |   |--- age >  -1.44\n",
            "|   |   |   |   |   |--- chol <= -0.17\n",
            "|   |   |   |   |   |   |--- class: 1\n",
            "|   |   |   |   |   |--- chol >  -0.17\n",
            "|   |   |   |   |   |   |--- class: 0\n",
            "|   |   |   |--- oldpeak >  -0.35\n",
            "|   |   |   |   |--- class: 0\n",
            "|   |--- ca >  -0.22\n",
            "|   |   |--- age <= 0.97\n",
            "|   |   |   |--- class: 0\n",
            "|   |   |--- age >  0.97\n",
            "|   |   |   |--- restecg <= -0.04\n",
            "|   |   |   |   |--- class: 0\n",
            "|   |   |   |--- restecg >  -0.04\n",
            "|   |   |   |   |--- fbs <= 0.99\n",
            "|   |   |   |   |   |--- class: 1\n",
            "|   |   |   |   |--- fbs >  0.99\n",
            "|   |   |   |   |   |--- class: 0\n",
            "|--- cp >  -0.45\n",
            "|   |--- sex <= -0.37\n",
            "|   |   |--- ca <= 0.75\n",
            "|   |   |   |--- class: 1\n",
            "|   |   |--- ca >  0.75\n",
            "|   |   |   |--- chol <= 1.19\n",
            "|   |   |   |   |--- class: 1\n",
            "|   |   |   |--- chol >  1.19\n",
            "|   |   |   |   |--- class: 0\n",
            "|   |--- sex >  -0.37\n",
            "|   |   |--- age <= 0.18\n",
            "|   |   |   |--- thalach <= -0.06\n",
            "|   |   |   |   |--- oldpeak <= -0.30\n",
            "|   |   |   |   |   |--- exang <= 0.35\n",
            "|   |   |   |   |   |   |--- class: 1\n",
            "|   |   |   |   |   |--- exang >  0.35\n",
            "|   |   |   |   |   |   |--- class: 0\n",
            "|   |   |   |   |--- oldpeak >  -0.30\n",
            "|   |   |   |   |   |--- class: 0\n",
            "|   |   |   |--- thalach >  -0.06\n",
            "|   |   |   |   |--- oldpeak <= 2.17\n",
            "|   |   |   |   |   |--- trestbps <= -1.22\n",
            "|   |   |   |   |   |   |--- class: 1\n",
            "|   |   |   |   |   |--- trestbps >  -1.22\n",
            "|   |   |   |   |   |   |--- class: 1\n",
            "|   |   |   |   |--- oldpeak >  2.17\n",
            "|   |   |   |   |   |--- class: 0\n",
            "|   |   |--- age >  0.18\n",
            "|   |   |   |--- chol <= 0.61\n",
            "|   |   |   |   |--- ca <= -0.22\n",
            "|   |   |   |   |   |--- age <= 1.19\n",
            "|   |   |   |   |   |   |--- class: 1\n",
            "|   |   |   |   |   |--- age >  1.19\n",
            "|   |   |   |   |   |   |--- class: 0\n",
            "|   |   |   |   |--- ca >  -0.22\n",
            "|   |   |   |   |   |--- oldpeak <= 0.37\n",
            "|   |   |   |   |   |   |--- class: 0\n",
            "|   |   |   |   |   |--- oldpeak >  0.37\n",
            "|   |   |   |   |   |   |--- class: 0\n",
            "|   |   |   |--- chol >  0.61\n",
            "|   |   |   |   |--- class: 0\n",
            "\n"
          ]
        }
      ]
    },
    {
      "cell_type": "markdown",
      "source": [
        "#**K Nearest Neighbors**"
      ],
      "metadata": {
        "id": "cM8Wt5p5qqEV"
      }
    },
    {
      "cell_type": "code",
      "source": [
        "#train the model\n",
        "KNN = KNeighborsClassifier(n_neighbors = 10) #try other n_neighbors values\n",
        "KNN = KNN.fit(X_train, y_train)\n",
        "\n",
        "#test the model\n",
        "KNN_predicted = KNN.predict(X_test)\n",
        "KNN_acc_score = accuracy_score(y_test, KNN_predicted)\n",
        "print(\"Accuracy for KNN:\",KNN_acc_score*100,'\\n')\n",
        "print(classification_report(y_test,KNN_predicted))\n",
        "\n",
        "#visualize the model and results\n",
        "#TODO: PCA?\n",
        "\n",
        "#practice: change the value of n_neighbors and see its effect on the accuracy. find the best value for n_neighbors\n",
        "#can you think of a systematic way to find the optimal k value? (hint: https://towardsdatascience.com/how-to-find-the-optimal-value-of-k-in-knn-35d936e554eb)\n",
        "#challenge yourself to implement the idea for finding the optimal k value in python and test it on the heart dataset!\n"
      ],
      "metadata": {
        "colab": {
          "base_uri": "https://localhost:8080/"
        },
        "id": "hz-XuDcJfGJt",
        "outputId": "55f279f4-5d3c-4d4c-91e3-ef329f797673"
      },
      "execution_count": null,
      "outputs": [
        {
          "output_type": "stream",
          "name": "stdout",
          "text": [
            "Accuracy for KNN: 88.52459016393442 \n",
            "\n",
            "              precision    recall  f1-score   support\n",
            "\n",
            "           0       0.86      0.89      0.87        27\n",
            "           1       0.91      0.88      0.90        34\n",
            "\n",
            "    accuracy                           0.89        61\n",
            "   macro avg       0.88      0.89      0.88        61\n",
            "weighted avg       0.89      0.89      0.89        61\n",
            "\n"
          ]
        }
      ]
    },
    {
      "cell_type": "markdown",
      "source": [
        "# **Logistic Regression**"
      ],
      "metadata": {
        "id": "AyrUTQ6Et4So"
      }
    },
    {
      "cell_type": "code",
      "source": [
        "#train the model\n",
        "model = LogisticRegression()\n",
        "model = model.fit(X_train, y_train)\n",
        "\n",
        "#test the model\n",
        "model_predicted = model.predict(X_test)\n",
        "model_acc_score = accuracy_score(y_test, KNN_predicted)\n",
        "print(\"Accuracy for KNN:\",model_acc_score*100,'\\n')\n",
        "print(classification_report(y_test,model_predicted))\n",
        "\n",
        "#visualize the model and results\n",
        "print(f\"weigths: {model.coef_}\") # it is a matrix with the size of #classes*#features)\n",
        "\n",
        "#practice: read about the parameters of LogisticRegression in sklearn and think about how\n",
        "#they might affect the accuracy : https://scikit-learn.org/0.16/modules/generated/sklearn.linear_model.LogisticRegression.html"
      ],
      "metadata": {
        "colab": {
          "base_uri": "https://localhost:8080/"
        },
        "id": "Wli5A6Ise3Sm",
        "outputId": "576373ad-1a9f-47b2-95cc-4e8472ca47a7"
      },
      "execution_count": null,
      "outputs": [
        {
          "output_type": "stream",
          "name": "stdout",
          "text": [
            "Accuracy for KNN: 88.52459016393442 \n",
            "\n",
            "              precision    recall  f1-score   support\n",
            "\n",
            "           0       0.88      0.78      0.82        27\n",
            "           1       0.84      0.91      0.87        34\n",
            "\n",
            "    accuracy                           0.85        61\n",
            "   macro avg       0.86      0.84      0.85        61\n",
            "weighted avg       0.85      0.85      0.85        61\n",
            "\n",
            "weigths: [[-0.07554609 -0.86419891  0.79641426 -0.1929562  -0.24758964 -0.13386133\n",
            "   0.09180366  0.50500584 -0.47863218 -0.64516548  0.13456573 -0.884006\n",
            "  -0.45962413]]\n"
          ]
        }
      ]
    },
    {
      "cell_type": "markdown",
      "source": [
        "# **Linear Regression**"
      ],
      "metadata": {
        "id": "CEn4T-Xyt1h4"
      }
    },
    {
      "cell_type": "code",
      "source": [
        "#generate random data\n",
        "rnstate = np.random.RandomState(1)\n",
        "x = 10 * rnstate.rand(50)\n",
        "y = 2 * x - 5 + rnstate.randn(50)\n",
        "plt.scatter(x, y);\n",
        "plt.show()\n",
        "\n",
        "# train a linear regression model to fit the data\n",
        "model = LinearRegression(fit_intercept=True)\n",
        "model.fit(x[:, np.newaxis], y)\n",
        "xfit = np.linspace(0, 10, 1000)\n",
        "yfit = model.predict(xfit[:, np.newaxis])\n",
        "\n",
        "# Plot the result\n",
        "plt.scatter(x, y)\n",
        "plt.plot(xfit, yfit);\n",
        "plt.show()\n",
        "\n",
        "#practice: read about the parameters of LinearRegression in sklearn and think about how\n",
        "#they might affect the model and the results :https://scikit-learn.org/stable/modules/generated/sklearn.linear_model.LinearRegression.html\n",
        "\n"
      ],
      "metadata": {
        "colab": {
          "base_uri": "https://localhost:8080/",
          "height": 513
        },
        "id": "86-xe8nDuYJr",
        "outputId": "eb503491-ed81-4521-ab82-185127f55b96"
      },
      "execution_count": null,
      "outputs": [
        {
          "output_type": "display_data",
          "data": {
            "text/plain": [
              "<Figure size 432x288 with 1 Axes>"
            ],
            "image/png": "[encoded data removed]"
          },
          "metadata": {
            "needs_background": "light"
          }
        },
        {
          "output_type": "display_data",
          "data": {
            "text/plain": [
              "<Figure size 432x288 with 1 Axes>"
            ],
            "image/png": "[encoded data removed]"
          },
          "metadata": {
            "needs_background": "light"
          }
        }
      ]
    },
    {
      "cell_type": "markdown",
      "source": [
        "# **Convolutional Neural Networks**"
      ],
      "metadata": {
        "id": "jci9VEtPt6Ba"
      }
    },
    {
      "cell_type": "markdown",
      "source": [
        "# **Resources**"
      ],
      "metadata": {
        "id": "NYerN9Zf0ail"
      }
    },
    {
      "cell_type": "markdown",
      "source": [
        "It's good practice to visit the **documentation** of the libraries that you use most for your tasks. Libraries such as numpy, pandas, matplotlib, sklearn, keras, tensorflow, pytorch, etc.\n",
        "Here are the links to some of them:\n",
        "\n",
        "https://numpy.org/doc/ \\\n",
        "https://pandas.pydata.org/docs/ \\\n",
        "https://matplotlib.org/stable/index.html \\\n",
        "https://scikit-learn.org/stable/ \\\n",
        "https://keras.io/examples/ \\\n",
        "https://pytorch.org/docs/stable/index.html \\\n",
        "\n",
        "\n",
        "You can also find the answer to many of your questions in the rich community of these frameworks. Also, some communities such as **stackoverflow** can lead you to the answer to your problems. \\\n",
        "\n",
        "There are many datasets that are publicly available, and you can use them to practice. These datasets can be found in:\n",
        "\n",
        "https://archive.ics.uci.edu/ml/datasets.php \\\n",
        "https://www.kaggle.com/datasets \\\n",
        "\n",
        "\n",
        "Finally, some links I got help from for preparing this notebook: \\\n",
        "\n",
        "\n",
        "https://www.activestate.com/resources/quick-reads/how-to-run-linear-regressions-in-python-scikit-learn/\n",
        "\n",
        "https://www.kaggle.com/code/nareshbhat/heart-attack-prediction-using-different-ml-models\n",
        "\n",
        "\n",
        "\n",
        "\n"
      ],
      "metadata": {
        "id": "4mP9u-wH0dug"
      }
    }
  ]
}